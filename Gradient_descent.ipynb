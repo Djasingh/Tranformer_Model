{
 "cells": [
  {
   "cell_type": "code",
   "execution_count": 1,
   "id": "9aed582e",
   "metadata": {},
   "outputs": [],
   "source": [
    "import math\n",
    "import numpy as np\n",
    "from graphviz import Digraph\n",
    "from matplotlib import pyplot as plt\n",
    "from IPython.display import display, clear_output"
   ]
  },
  {
   "cell_type": "code",
   "execution_count": 2,
   "id": "1cd88795",
   "metadata": {},
   "outputs": [],
   "source": [
    "def graph_attr(root):\n",
    "    nodes, edges = set(), set()\n",
    "    def build(node):\n",
    "        if node not in nodes:\n",
    "            nodes.add(node)\n",
    "            for child in node.childs:\n",
    "                edges.add((child, node))\n",
    "                build(child)\n",
    "    build(root)\n",
    "    return nodes, edges\n",
    "\n",
    "\n",
    "def draw_graph(root):\n",
    "    dig = Digraph(format=\"svg\", graph_attr={\"rankdir\":\"LR\"})\n",
    "    nodes, edges = graph_attr(root)\n",
    "    for n in nodes:\n",
    "        uid = str(id(n))\n",
    "        dig.node(name=uid, label=f\"{n.label}|data:{n.data}| grad:{n.grad}\", shape=\"record\")\n",
    "        if n.op:\n",
    "            dig.node(name=uid+n.op, label=f\"{n.op}\")\n",
    "            dig.edge(uid+n.op, uid)\n",
    "    for n1,n2 in edges:\n",
    "        dig.edge(str(id(n1)),str(id(n2))+n2.op)\n",
    "    return dig"
   ]
  },
  {
   "cell_type": "code",
   "execution_count": 3,
   "id": "90c809d4",
   "metadata": {},
   "outputs": [],
   "source": [
    "class RealValue:\n",
    "    def __init__(self, data, childs=(), op=\"\", label=\"\"):\n",
    "        self.data = data\n",
    "        self.childs = set(childs)\n",
    "        self.grad = 0\n",
    "        self.backward= lambda: None\n",
    "        self.op = op\n",
    "        self.label = label\n",
    "    \n",
    "    def __repr__(self):\n",
    "        return f\"RealValue({self.data})\"\n",
    "    \n",
    "    def __add__(self, other):\n",
    "        other = other if isinstance(other, RealValue) else RealValue(other, label=\"const\")\n",
    "        out = RealValue(self.data + other.data, (self, other), \"+\")\n",
    "        out.label= \"add\" if not out.label else out.label\n",
    "        def backward():\n",
    "            self.grad  += 1 * out.grad\n",
    "            other.grad += 1 * out.grad\n",
    "        out.backward = backward\n",
    "        \n",
    "        return out\n",
    "    def __pow__(self, other):\n",
    "        assert isinstance(other, float) or isinstance(other, int)\n",
    "        out =  RealValue(self.data**other, (self,), f'**{other}')\n",
    "        def backward():\n",
    "            self.grad += other*(self.data**(other-1)) * out.grad\n",
    "        out.backward = backward\n",
    "        return out\n",
    "    \n",
    "    def log_10(self):\n",
    "        out = RealValue(math.log10(self.data), (self,), \"log10\")\n",
    "        \n",
    "        def backward():\n",
    "            self.grad += ((self.data*2.30)**-1) * out.grad\n",
    "        out.backward = backward\n",
    "        return out\n",
    "    \n",
    "    def tanh(self):\n",
    "        out = RealValue(math.tanh(self.data), (self,),\"tanh\")\n",
    "        \n",
    "        def backward():\n",
    "            self.grad += (1-(out.data)**2) * out.grad\n",
    "        out.backward = backward\n",
    "        return out\n",
    "    \n",
    "    def relu(self):\n",
    "        out = RealValue(0 if self.data < 0 else self.data, (self,),\"relu\")\n",
    "        \n",
    "        def backward():\n",
    "            self.grad += (out.data > 0) * out.grad\n",
    "        out.backward = backward\n",
    "        return out\n",
    "    \n",
    "    def __mul__(self, other):\n",
    "            \n",
    "        other = other if isinstance(other, RealValue) else RealValue(other, label=\"const\")\n",
    "\n",
    "        out= RealValue(self.data * other.data, (self, other), \"*\")\n",
    "        out.label = \"mul\" if not out.label else out.label\n",
    "        \n",
    "        def backward():\n",
    "            self.grad += other.data * out.grad\n",
    "            other.grad+= self.data  * out.grad\n",
    "        out.backward = backward\n",
    "        return out\n",
    "    \n",
    "    def __sub__(self,other):\n",
    "        return self+(-other)\n",
    "    \n",
    "    def __radd__(self, other):\n",
    "        return self+other\n",
    "    \n",
    "    def __rmul__(self, other):\n",
    "        return self*other \n",
    "    \n",
    "    \n",
    "    def back_prop(self):\n",
    "        topo_sort= []\n",
    "        visited = set()\n",
    "        def build_topo(v):\n",
    "            if v not in visited:\n",
    "                visited.add(v)\n",
    "                for child in v.childs:\n",
    "                    build_topo(child)\n",
    "                topo_sort.append(v)\n",
    "        build_topo(self)\n",
    "        for node in reversed(topo_sort):\n",
    "            node.grad=0\n",
    "        self.grad =1\n",
    "        for node in reversed(topo_sort):\n",
    "            node.backward()"
   ]
  },
  {
   "cell_type": "code",
   "execution_count": 4,
   "id": "2ec74766",
   "metadata": {},
   "outputs": [
    {
     "data": {
      "text/plain": [
       "RealValue(34)"
      ]
     },
     "execution_count": 4,
     "metadata": {},
     "output_type": "execute_result"
    }
   ],
   "source": [
    "x = RealValue(4, label=\"x\")\n",
    "def forward(x):\n",
    "    f = x*x + 2*x + 10 ; f.label=\"f\"                  #x*x*x + 2*x*x + 1\n",
    "    #l = f.tanh(); l.label=\"l\"\n",
    "    out = f; out.label=\"o\"\n",
    "\n",
    "    return out\n",
    "out = forward(x)\n",
    "out"
   ]
  },
  {
   "cell_type": "code",
   "execution_count": 5,
   "id": "94ff17b4",
   "metadata": {},
   "outputs": [],
   "source": [
    "fw= lambda x : x*x + 2*x + 10\n",
    "x_init = np.arange(-(abs(x.data)+10), abs(x.data)+10, 0.5)\n",
    "y_init = fw(x_init)"
   ]
  },
  {
   "cell_type": "code",
   "execution_count": 6,
   "id": "9c2c2457",
   "metadata": {},
   "outputs": [
    {
     "data": {
      "text/plain": [
       "34"
      ]
     },
     "execution_count": 6,
     "metadata": {},
     "output_type": "execute_result"
    }
   ],
   "source": [
    "fw(4)"
   ]
  },
  {
   "cell_type": "code",
   "execution_count": 7,
   "id": "dda90df9",
   "metadata": {},
   "outputs": [],
   "source": [
    "x1=[]\n",
    "y1=[]\n",
    "x1.append(x.data)\n",
    "y1.append(out.data)"
   ]
  },
  {
   "cell_type": "code",
   "execution_count": 8,
   "id": "e3b73738",
   "metadata": {},
   "outputs": [],
   "source": [
    "loss=[]\n",
    "for i in range(100):\n",
    "    out.back_prop()\n",
    "    lr = 0.9   #-0.001*i # learning rate decay\n",
    "    x.data-= lr * x.grad\n",
    "    out = forward(x)\n",
    "    loss.append((x.data,out.data,i))\n",
    "    if out.data==0:\n",
    "        break\n",
    "    #print(\"loss\",out)"
   ]
  },
  {
   "cell_type": "code",
   "execution_count": 9,
   "id": "f4cb19ea",
   "metadata": {},
   "outputs": [
    {
     "data": {
      "image/png": "[encoded data removed]",
      "text/plain": [
       "<Figure size 432x432 with 1 Axes>"
      ]
     },
     "metadata": {},
     "output_type": "display_data"
    }
   ],
   "source": [
    "figure, ax = plt.subplots(figsize=(6,6))\n",
    "for i in loss:\n",
    "    x1.append(i[0])\n",
    "    y1.append(i[1])\n",
    "    ax.cla()\n",
    "    ax.plot(x_init, y_init, color=\"green\")\n",
    "    ax.plot(x1, y1, color=\"blue\", marker=\"o\")\n",
    "    ax.set_xlabel(f\"{x.label}\",fontdict={\"weight\":\"bold\", \"fontsize\":18})\n",
    "    ax.set_ylabel(f\"f({x.label})\",{\"weight\":\"bold\",\"fontsize\":18})\n",
    "    ax.text(x1[-1], y1[-1], f\"{(round(x1[-1],2),round(y1[-1],2))}\", fontdict={\"position\": ((x1[-1]), (y1[-1])),\"color\":\"red\",\"weight\":\"bold\"})\n",
    "    display(figure)    \n",
    "    clear_output(wait = True)\n",
    "    plt.pause(0.1)"
   ]
  },
  {
   "cell_type": "code",
   "execution_count": 10,
   "id": "3d11d2b3",
   "metadata": {},
   "outputs": [
    {
     "data": {
      "image/svg+xml": [
       "<?xml version=\"1.0\" encoding=\"UTF-8\" standalone=\"no\"?>\n",
       "<!DOCTYPE svg PUBLIC \"-//W3C//DTD SVG 1.1//EN\"\n",
       " \"http://www.w3.org/Graphics/SVG/1.1/DTD/svg11.dtd\">\n",
       "<!-- Generated by graphviz version 2.40.1 (20161225.0304)\n",
       " -->\n",
       "<!-- Title: %3 Pages: 1 -->\n",
       "<svg width=\"862pt\" height=\"210pt\"\n",
       " viewBox=\"0.00 0.00 862.00 210.00\" xmlns=\"http://www.w3.org/2000/svg\" xmlns:xlink=\"http://www.w3.org/1999/xlink\">\n",
       "<g id=\"graph0\" class=\"graph\" transform=\"scale(1 1) rotate(0) translate(4 206)\">\n",
       "<title>%3</title>\n",
       "<polygon fill=\"#ffffff\" stroke=\"transparent\" points=\"-4,4 -4,-206 858,-206 858,4 -4,4\"/>\n",
       "<!-- 140608673230352 -->\n",
       "<g id=\"node1\" class=\"node\">\n",
       "<title>140608673230352</title>\n",
       "<polygon fill=\"none\" stroke=\"#000000\" points=\"603,-44.5 603,-113.5 668,-113.5 668,-44.5 603,-44.5\"/>\n",
       "<text text-anchor=\"middle\" x=\"635.5\" y=\"-98.3\" font-family=\"Times,serif\" font-size=\"14.00\" fill=\"#000000\">add</text>\n",
       "<polyline fill=\"none\" stroke=\"#000000\" points=\"603,-90.5 668,-90.5 \"/>\n",
       "<text text-anchor=\"middle\" x=\"635.5\" y=\"-75.3\" font-family=\"Times,serif\" font-size=\"14.00\" fill=\"#000000\">data:&#45;1.0</text>\n",
       "<polyline fill=\"none\" stroke=\"#000000\" points=\"603,-67.5 668,-67.5 \"/>\n",
       "<text text-anchor=\"middle\" x=\"635.5\" y=\"-52.3\" font-family=\"Times,serif\" font-size=\"14.00\" fill=\"#000000\">grad:0</text>\n",
       "</g>\n",
       "<!-- 140608673230128+ -->\n",
       "<g id=\"node9\" class=\"node\">\n",
       "<title>140608673230128+</title>\n",
       "<ellipse fill=\"none\" stroke=\"#000000\" cx=\"731\" cy=\"-123\" rx=\"27\" ry=\"18\"/>\n",
       "<text text-anchor=\"middle\" x=\"731\" y=\"-119.3\" font-family=\"Times,serif\" font-size=\"14.00\" fill=\"#000000\">+</text>\n",
       "</g>\n",
       "<!-- 140608673230352&#45;&gt;140608673230128+ -->\n",
       "<g id=\"edge10\" class=\"edge\">\n",
       "<title>140608673230352&#45;&gt;140608673230128+</title>\n",
       "<path fill=\"none\" stroke=\"#000000\" d=\"M668.0986,-94.0192C678.2537,-98.698 689.4287,-103.8468 699.5067,-108.49\"/>\n",
       "<polygon fill=\"#000000\" stroke=\"#000000\" points=\"698.2169,-111.7493 708.7639,-112.7551 701.1461,-105.3916 698.2169,-111.7493\"/>\n",
       "</g>\n",
       "<!-- 140608673230352+ -->\n",
       "<g id=\"node2\" class=\"node\">\n",
       "<title>140608673230352+</title>\n",
       "<ellipse fill=\"none\" stroke=\"#000000\" cx=\"540\" cy=\"-79\" rx=\"27\" ry=\"18\"/>\n",
       "<text text-anchor=\"middle\" x=\"540\" y=\"-75.3\" font-family=\"Times,serif\" font-size=\"14.00\" fill=\"#000000\">+</text>\n",
       "</g>\n",
       "<!-- 140608673230352+&#45;&gt;140608673230352 -->\n",
       "<g id=\"edge1\" class=\"edge\">\n",
       "<title>140608673230352+&#45;&gt;140608673230352</title>\n",
       "<path fill=\"none\" stroke=\"#000000\" d=\"M567.111,-79C575.1173,-79 584.0822,-79 592.8182,-79\"/>\n",
       "<polygon fill=\"#000000\" stroke=\"#000000\" points=\"592.8973,-82.5001 602.8973,-79 592.8972,-75.5001 592.8973,-82.5001\"/>\n",
       "</g>\n",
       "<!-- 140608673229848 -->\n",
       "<g id=\"node3\" class=\"node\">\n",
       "<title>140608673229848</title>\n",
       "<polygon fill=\"none\" stroke=\"#000000\" points=\"311,-88.5 311,-157.5 477,-157.5 477,-88.5 311,-88.5\"/>\n",
       "<text text-anchor=\"middle\" x=\"394\" y=\"-142.3\" font-family=\"Times,serif\" font-size=\"14.00\" fill=\"#000000\">mul</text>\n",
       "<polyline fill=\"none\" stroke=\"#000000\" points=\"311,-134.5 477,-134.5 \"/>\n",
       "<text text-anchor=\"middle\" x=\"394\" y=\"-119.3\" font-family=\"Times,serif\" font-size=\"14.00\" fill=\"#000000\">data:&#45;1.9999999979629641</text>\n",
       "<polyline fill=\"none\" stroke=\"#000000\" points=\"311,-111.5 477,-111.5 \"/>\n",
       "<text text-anchor=\"middle\" x=\"394\" y=\"-96.3\" font-family=\"Times,serif\" font-size=\"14.00\" fill=\"#000000\">grad:0</text>\n",
       "</g>\n",
       "<!-- 140608673229848&#45;&gt;140608673230352+ -->\n",
       "<g id=\"edge11\" class=\"edge\">\n",
       "<title>140608673229848&#45;&gt;140608673230352+</title>\n",
       "<path fill=\"none\" stroke=\"#000000\" d=\"M477.2355,-97.9153C487.1774,-94.9191 496.8609,-92.0008 505.5286,-89.3886\"/>\n",
       "<polygon fill=\"#000000\" stroke=\"#000000\" points=\"506.6271,-92.7132 515.1918,-86.4765 504.6072,-86.0109 506.6271,-92.7132\"/>\n",
       "</g>\n",
       "<!-- 140608673229848* -->\n",
       "<g id=\"node4\" class=\"node\">\n",
       "<title>140608673229848*</title>\n",
       "<ellipse fill=\"none\" stroke=\"#000000\" cx=\"248\" cy=\"-123\" rx=\"27\" ry=\"18\"/>\n",
       "<text text-anchor=\"middle\" x=\"248\" y=\"-119.3\" font-family=\"Times,serif\" font-size=\"14.00\" fill=\"#000000\">*</text>\n",
       "</g>\n",
       "<!-- 140608673229848*&#45;&gt;140608673229848 -->\n",
       "<g id=\"edge2\" class=\"edge\">\n",
       "<title>140608673229848*&#45;&gt;140608673229848</title>\n",
       "<path fill=\"none\" stroke=\"#000000\" d=\"M275.1193,-123C282.7499,-123 291.5053,-123 300.7296,-123\"/>\n",
       "<polygon fill=\"#000000\" stroke=\"#000000\" points=\"300.892,-126.5001 310.892,-123 300.892,-119.5001 300.892,-126.5001\"/>\n",
       "</g>\n",
       "<!-- 140608673230576 -->\n",
       "<g id=\"node5\" class=\"node\">\n",
       "<title>140608673230576</title>\n",
       "<polygon fill=\"none\" stroke=\"#000000\" points=\"65.5,-88.5 65.5,-157.5 119.5,-157.5 119.5,-88.5 65.5,-88.5\"/>\n",
       "<text text-anchor=\"middle\" x=\"92.5\" y=\"-142.3\" font-family=\"Times,serif\" font-size=\"14.00\" fill=\"#000000\">const</text>\n",
       "<polyline fill=\"none\" stroke=\"#000000\" points=\"65.5,-134.5 119.5,-134.5 \"/>\n",
       "<text text-anchor=\"middle\" x=\"92.5\" y=\"-119.3\" font-family=\"Times,serif\" font-size=\"14.00\" fill=\"#000000\">data:2</text>\n",
       "<polyline fill=\"none\" stroke=\"#000000\" points=\"65.5,-111.5 119.5,-111.5 \"/>\n",
       "<text text-anchor=\"middle\" x=\"92.5\" y=\"-96.3\" font-family=\"Times,serif\" font-size=\"14.00\" fill=\"#000000\">grad:0</text>\n",
       "</g>\n",
       "<!-- 140608673230576&#45;&gt;140608673229848* -->\n",
       "<g id=\"edge9\" class=\"edge\">\n",
       "<title>140608673230576&#45;&gt;140608673229848*</title>\n",
       "<path fill=\"none\" stroke=\"#000000\" d=\"M119.586,-123C144.8167,-123 182.655,-123 210.729,-123\"/>\n",
       "<polygon fill=\"#000000\" stroke=\"#000000\" points=\"210.964,-126.5001 220.9639,-123 210.9639,-119.5001 210.964,-126.5001\"/>\n",
       "</g>\n",
       "<!-- 140608673230072 -->\n",
       "<g id=\"node6\" class=\"node\">\n",
       "<title>140608673230072</title>\n",
       "<polygon fill=\"none\" stroke=\"#000000\" points=\"313.5,-.5 313.5,-69.5 474.5,-69.5 474.5,-.5 313.5,-.5\"/>\n",
       "<text text-anchor=\"middle\" x=\"394\" y=\"-54.3\" font-family=\"Times,serif\" font-size=\"14.00\" fill=\"#000000\">mul</text>\n",
       "<polyline fill=\"none\" stroke=\"#000000\" points=\"313.5,-46.5 474.5,-46.5 \"/>\n",
       "<text text-anchor=\"middle\" x=\"394\" y=\"-31.3\" font-family=\"Times,serif\" font-size=\"14.00\" fill=\"#000000\">data:0.9999999979629641</text>\n",
       "<polyline fill=\"none\" stroke=\"#000000\" points=\"313.5,-23.5 474.5,-23.5 \"/>\n",
       "<text text-anchor=\"middle\" x=\"394\" y=\"-8.3\" font-family=\"Times,serif\" font-size=\"14.00\" fill=\"#000000\">grad:0</text>\n",
       "</g>\n",
       "<!-- 140608673230072&#45;&gt;140608673230352+ -->\n",
       "<g id=\"edge8\" class=\"edge\">\n",
       "<title>140608673230072&#45;&gt;140608673230352+</title>\n",
       "<path fill=\"none\" stroke=\"#000000\" d=\"M474.6865,-59.3165C485.5351,-62.5859 496.1547,-65.7864 505.5726,-68.6246\"/>\n",
       "<polygon fill=\"#000000\" stroke=\"#000000\" points=\"504.6898,-72.014 515.2744,-71.5484 506.7097,-65.3117 504.6898,-72.014\"/>\n",
       "</g>\n",
       "<!-- 140608673230072* -->\n",
       "<g id=\"node7\" class=\"node\">\n",
       "<title>140608673230072*</title>\n",
       "<ellipse fill=\"none\" stroke=\"#000000\" cx=\"248\" cy=\"-35\" rx=\"27\" ry=\"18\"/>\n",
       "<text text-anchor=\"middle\" x=\"248\" y=\"-31.3\" font-family=\"Times,serif\" font-size=\"14.00\" fill=\"#000000\">*</text>\n",
       "</g>\n",
       "<!-- 140608673230072*&#45;&gt;140608673230072 -->\n",
       "<g id=\"edge3\" class=\"edge\">\n",
       "<title>140608673230072*&#45;&gt;140608673230072</title>\n",
       "<path fill=\"none\" stroke=\"#000000\" d=\"M275.1193,-35C283.4071,-35 293.0216,-35 303.1228,-35\"/>\n",
       "<polygon fill=\"#000000\" stroke=\"#000000\" points=\"303.3551,-38.5001 313.355,-35 303.355,-31.5001 303.3551,-38.5001\"/>\n",
       "</g>\n",
       "<!-- 140608673230128 -->\n",
       "<g id=\"node8\" class=\"node\">\n",
       "<title>140608673230128</title>\n",
       "<polygon fill=\"none\" stroke=\"#000000\" points=\"794,-88.5 794,-157.5 854,-157.5 854,-88.5 794,-88.5\"/>\n",
       "<text text-anchor=\"middle\" x=\"824\" y=\"-142.3\" font-family=\"Times,serif\" font-size=\"14.00\" fill=\"#000000\">o</text>\n",
       "<polyline fill=\"none\" stroke=\"#000000\" points=\"794,-134.5 854,-134.5 \"/>\n",
       "<text text-anchor=\"middle\" x=\"824\" y=\"-119.3\" font-family=\"Times,serif\" font-size=\"14.00\" fill=\"#000000\">data:9.0</text>\n",
       "<polyline fill=\"none\" stroke=\"#000000\" points=\"794,-111.5 854,-111.5 \"/>\n",
       "<text text-anchor=\"middle\" x=\"824\" y=\"-96.3\" font-family=\"Times,serif\" font-size=\"14.00\" fill=\"#000000\">grad:0</text>\n",
       "</g>\n",
       "<!-- 140608673230128+&#45;&gt;140608673230128 -->\n",
       "<g id=\"edge4\" class=\"edge\">\n",
       "<title>140608673230128+&#45;&gt;140608673230128</title>\n",
       "<path fill=\"none\" stroke=\"#000000\" d=\"M758.4001,-123C766.3231,-123 775.1416,-123 783.6774,-123\"/>\n",
       "<polygon fill=\"#000000\" stroke=\"#000000\" points=\"783.8698,-126.5001 793.8698,-123 783.8698,-119.5001 783.8698,-126.5001\"/>\n",
       "</g>\n",
       "<!-- 140608673227160 -->\n",
       "<g id=\"node10\" class=\"node\">\n",
       "<title>140608673227160</title>\n",
       "<polygon fill=\"none\" stroke=\"#000000\" points=\"607.5,-132.5 607.5,-201.5 663.5,-201.5 663.5,-132.5 607.5,-132.5\"/>\n",
       "<text text-anchor=\"middle\" x=\"635.5\" y=\"-186.3\" font-family=\"Times,serif\" font-size=\"14.00\" fill=\"#000000\">const</text>\n",
       "<polyline fill=\"none\" stroke=\"#000000\" points=\"607.5,-178.5 663.5,-178.5 \"/>\n",
       "<text text-anchor=\"middle\" x=\"635.5\" y=\"-163.3\" font-family=\"Times,serif\" font-size=\"14.00\" fill=\"#000000\">data:10</text>\n",
       "<polyline fill=\"none\" stroke=\"#000000\" points=\"607.5,-155.5 663.5,-155.5 \"/>\n",
       "<text text-anchor=\"middle\" x=\"635.5\" y=\"-140.3\" font-family=\"Times,serif\" font-size=\"14.00\" fill=\"#000000\">grad:0</text>\n",
       "</g>\n",
       "<!-- 140608673227160&#45;&gt;140608673230128+ -->\n",
       "<g id=\"edge7\" class=\"edge\">\n",
       "<title>140608673227160&#45;&gt;140608673230128+</title>\n",
       "<path fill=\"none\" stroke=\"#000000\" d=\"M663.6366,-154.0365C674.8125,-148.8874 687.7234,-142.939 699.2336,-137.6358\"/>\n",
       "<polygon fill=\"#000000\" stroke=\"#000000\" points=\"700.8861,-140.7282 708.5039,-133.3647 697.9569,-134.3705 700.8861,-140.7282\"/>\n",
       "</g>\n",
       "<!-- 140608673110952 -->\n",
       "<g id=\"node11\" class=\"node\">\n",
       "<title>140608673110952</title>\n",
       "<polygon fill=\"none\" stroke=\"#000000\" points=\"0,-.5 0,-69.5 185,-69.5 185,-.5 0,-.5\"/>\n",
       "<text text-anchor=\"middle\" x=\"92.5\" y=\"-54.3\" font-family=\"Times,serif\" font-size=\"14.00\" fill=\"#000000\">x</text>\n",
       "<polyline fill=\"none\" stroke=\"#000000\" points=\"0,-46.5 185,-46.5 \"/>\n",
       "<text text-anchor=\"middle\" x=\"92.5\" y=\"-31.3\" font-family=\"Times,serif\" font-size=\"14.00\" fill=\"#000000\">data:&#45;0.9999999989814821</text>\n",
       "<polyline fill=\"none\" stroke=\"#000000\" points=\"0,-23.5 185,-23.5 \"/>\n",
       "<text text-anchor=\"middle\" x=\"92.5\" y=\"-8.3\" font-family=\"Times,serif\" font-size=\"14.00\" fill=\"#000000\">grad:&#45;2.546294730620957e&#45;09</text>\n",
       "</g>\n",
       "<!-- 140608673110952&#45;&gt;140608673229848* -->\n",
       "<g id=\"edge6\" class=\"edge\">\n",
       "<title>140608673110952&#45;&gt;140608673229848*</title>\n",
       "<path fill=\"none\" stroke=\"#000000\" d=\"M167.766,-69.5027C173.6594,-72.5974 179.4661,-75.7811 185,-79 197.4663,-86.2512 210.638,-95.2243 221.6965,-103.172\"/>\n",
       "<polygon fill=\"#000000\" stroke=\"#000000\" points=\"219.9171,-106.2063 230.0582,-109.2736 224.0433,-100.5517 219.9171,-106.2063\"/>\n",
       "</g>\n",
       "<!-- 140608673110952&#45;&gt;140608673230072* -->\n",
       "<g id=\"edge5\" class=\"edge\">\n",
       "<title>140608673110952&#45;&gt;140608673230072*</title>\n",
       "<path fill=\"none\" stroke=\"#000000\" d=\"M185.2004,-35C194.1436,-35 202.8125,-35 210.7095,-35\"/>\n",
       "<polygon fill=\"#000000\" stroke=\"#000000\" points=\"210.9529,-38.5001 220.9528,-35 210.9528,-31.5001 210.9529,-38.5001\"/>\n",
       "</g>\n",
       "</g>\n",
       "</svg>\n"
      ],
      "text/plain": [
       "<graphviz.graphs.Digraph at 0x7fe202052588>"
      ]
     },
     "execution_count": 10,
     "metadata": {},
     "output_type": "execute_result"
    }
   ],
   "source": [
    "draw_graph(out)"
   ]
  },
  {
   "cell_type": "code",
   "execution_count": 11,
   "id": "08e3931f",
   "metadata": {},
   "outputs": [],
   "source": [
    "class Neuron:\n",
    "    def __init__(self, inputs):\n",
    "        self.rv = np.random.rand(inputs)\n",
    "        self.weights =  [RealValue(v, label=f\"w{i}\") for i,v in enumerate(self.rv)]\n",
    "        self.bias  = RealValue(np.random.rand(1),label=f\"b\")\n",
    "        #self.activation = activation\n",
    "        \n",
    "    def __call__(self, X):\n",
    "        #X   = [RealValue(x, label=f\"I{i}\") for i, x in enumerate(X)]\n",
    "        out = sum([w*x for w, x in zip(self.weights, X)])\n",
    "        return out+self.bias\n",
    "    def param(self):\n",
    "        return self.weights"
   ]
  },
  {
   "cell_type": "code",
   "execution_count": 12,
   "id": "8969b118",
   "metadata": {},
   "outputs": [],
   "source": [
    "class Perceptron:\n",
    "    def __init__(self, inputs, outputs):\n",
    "        #self.activation =  activation\n",
    "        self.weights =  [Neuron(inputs) for _ in range(outputs)]\n",
    "        \n",
    "    def __call__(self, X):\n",
    "        out = [n(X) for n in self.weights]\n",
    "        return out[0] if len(out)==1 else out\n",
    "    \n",
    "    def param(self):\n",
    "        return [i for w in self.weights for i in w.param()]"
   ]
  },
  {
   "cell_type": "code",
   "execution_count": 13,
   "id": "692d69e3",
   "metadata": {},
   "outputs": [],
   "source": [
    "class DL:\n",
    "    def __init__(self, inputs, layers=[2,3,4]):\n",
    "        all_layers = [inputs]+layers\n",
    "        self.weights =  [Perceptron(all_layers[i],all_layers[i+1]) for i in range(len(layers))]\n",
    "        #self.activation=activation\n",
    "        \n",
    "    def __call__(self, X):\n",
    "        for layer in self.weights:\n",
    "            X = layer(X)\n",
    "        return X\n",
    "    \n",
    "    def param(self):\n",
    "        return [i for w in self.weights for i in w.param()]"
   ]
  },
  {
   "cell_type": "code",
   "execution_count": 14,
   "id": "5a0f22d3",
   "metadata": {},
   "outputs": [],
   "source": [
    "lr=0.01"
   ]
  },
  {
   "cell_type": "code",
   "execution_count": 15,
   "id": "3f14ee51",
   "metadata": {},
   "outputs": [],
   "source": [
    "model=DL(3, [2,1])\n",
    "out = model([1,2,3])\n",
    "out = out.relu()\n",
    "loss = out - 1"
   ]
  },
  {
   "cell_type": "code",
   "execution_count": 16,
   "id": "8e9abc7f",
   "metadata": {},
   "outputs": [],
   "source": [
    "loss.back_prop()"
   ]
  },
  {
   "cell_type": "code",
   "execution_count": 17,
   "id": "21879b10",
   "metadata": {},
   "outputs": [
    {
     "name": "stdout",
     "output_type": "stream",
     "text": [
      "0.10137283623849624 [0.28069041]\n",
      "0.08931217679894143 [0.56138082]\n",
      "0.803429548499335 [0.84207122]\n",
      "0.653250069894256 [0.38683772]\n",
      "0.6528691360810428 [0.77367544]\n",
      "0.05733294402353184 [1.16051316]\n",
      "0.28069040795092404 [2.70301729]\n",
      "0.3868377205683631 [3.03665821]\n"
     ]
    }
   ],
   "source": [
    "for p in model.param():\n",
    "    print(p.data, p.grad)"
   ]
  },
  {
   "cell_type": "code",
   "execution_count": 18,
   "id": "07bec927",
   "metadata": {},
   "outputs": [],
   "source": [
    "for p in model.param():\n",
    "    p.data-= lr * p.grad"
   ]
  },
  {
   "cell_type": "code",
   "execution_count": 19,
   "id": "c711c102",
   "metadata": {},
   "outputs": [
    {
     "data": {
      "text/plain": [
       "[RealValue([0.09856593]),\n",
       " RealValue([0.08369837]),\n",
       " RealValue([0.79500884]),\n",
       " RealValue([0.64938169]),\n",
       " RealValue([0.64513238]),\n",
       " RealValue([0.04572781]),\n",
       " RealValue([0.25366024]),\n",
       " RealValue([0.35647114])]"
      ]
     },
     "execution_count": 19,
     "metadata": {},
     "output_type": "execute_result"
    }
   ],
   "source": [
    "model.param()"
   ]
  },
  {
   "cell_type": "code",
   "execution_count": 233,
   "id": "0cf93227",
   "metadata": {},
   "outputs": [],
   "source": [
    "#draw_graph(loss)"
   ]
  }
 ],
 "metadata": {
  "kernelspec": {
   "display_name": "Python 3",
   "language": "python",
   "name": "python3"
  },
  "language_info": {
   "codemirror_mode": {
    "name": "ipython",
    "version": 3
   },
   "file_extension": ".py",
   "mimetype": "text/x-python",
   "name": "python",
   "nbconvert_exporter": "python",
   "pygments_lexer": "ipython3",
   "version": "3.6.9"
  }
 },
 "nbformat": 4,
 "nbformat_minor": 5
}
