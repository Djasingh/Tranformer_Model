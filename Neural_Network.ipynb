{
 "cells": [
  {
   "cell_type": "code",
   "execution_count": 2,
   "id": "839a3ff7",
   "metadata": {},
   "outputs": [],
   "source": [
    "import math\n",
    "import torch\n",
    "import random\n",
    "import numpy as np\n",
    "from torch import nn\n",
    "from torch.nn import functional as F\n",
    "from PyPDF2 import PdfReader \n",
    "from torch.utils.data import DataLoader, Dataset"
   ]
  },
  {
   "cell_type": "code",
   "execution_count": 3,
   "id": "e520454a",
   "metadata": {},
   "outputs": [],
   "source": [
    "from matplotlib import pyplot as plt"
   ]
  },
  {
   "cell_type": "code",
   "execution_count": 4,
   "id": "336b99cf",
   "metadata": {},
   "outputs": [],
   "source": [
    "reader = PdfReader('Shodhganga.pdf') \n",
    "text=\"\"\n",
    "for p in reader.pages:\n",
    "    text += p.extract_text()"
   ]
  },
  {
   "cell_type": "code",
   "execution_count": 5,
   "id": "08820e6b",
   "metadata": {},
   "outputs": [],
   "source": [
    "import re\n",
    "remove = ['\\n','\"',\n",
    " '%',\n",
    " '(',\n",
    " ')',\n",
    " '+',\n",
    " ',',\n",
    " '-',\n",
    " '.',\n",
    " '/',]\n",
    "rx = '[' + re.escape(''.join(remove)) + ']'\n",
    "text = re.sub(rx, '', text)\n",
    "text = text.lower()\n",
    "text = re.sub(\"\\d+\",\"\", text)"
   ]
  },
  {
   "cell_type": "code",
   "execution_count": 6,
   "id": "51638045",
   "metadata": {},
   "outputs": [],
   "source": [
    "vocab_text = set(text)\n",
    "ch2i = {ch:i for i, ch in enumerate(vocab_text)}\n",
    "i2ch = {i:ch for i, ch in enumerate(vocab_text)}\n",
    "tokens = [ch2i[ch] for ch in text]\n",
    "num_tokens = len(tokens)\n",
    "vocab_size = len(vocab_text)\n",
    "embed_size = 2"
   ]
  },
  {
   "cell_type": "code",
   "execution_count": 7,
   "id": "6aba980e",
   "metadata": {},
   "outputs": [
    {
     "data": {
      "text/plain": [
       "50"
      ]
     },
     "execution_count": 7,
     "metadata": {},
     "output_type": "execute_result"
    }
   ],
   "source": [
    "vocab_size"
   ]
  },
  {
   "cell_type": "code",
   "execution_count": 8,
   "id": "5b5ef2b3",
   "metadata": {},
   "outputs": [],
   "source": [
    "block_size=4\n",
    "x = []\n",
    "y = []\n",
    "for i in range(0,len(tokens)-block_size):\n",
    "    x.append(tokens[i:i+block_size])\n",
    "    y.append(tokens[i+block_size])"
   ]
  },
  {
   "cell_type": "code",
   "execution_count": 9,
   "id": "705736c6",
   "metadata": {},
   "outputs": [],
   "source": [
    "x = torch.tensor(x)\n",
    "y = torch.tensor(y)"
   ]
  },
  {
   "cell_type": "code",
   "execution_count": 10,
   "id": "5f232264",
   "metadata": {},
   "outputs": [],
   "source": [
    "train_size = int(len(x)*0.80)\n",
    "x_tr = x[:train_size]\n",
    "y_tr = y[:train_size]\n",
    "\n",
    "x_te = x[train_size:]\n",
    "y_te = y[train_size:]"
   ]
  },
  {
   "cell_type": "code",
   "execution_count": 11,
   "id": "5bdd5ed8",
   "metadata": {},
   "outputs": [
    {
     "data": {
      "text/plain": [
       "torch.Size([54902, 4])"
      ]
     },
     "execution_count": 11,
     "metadata": {},
     "output_type": "execute_result"
    }
   ],
   "source": [
    "x_tr.shape"
   ]
  },
  {
   "cell_type": "code",
   "execution_count": 84,
   "id": "fceeb4ed",
   "metadata": {},
   "outputs": [
    {
     "data": {
      "text/plain": [
       "torch.Size([13726, 4])"
      ]
     },
     "execution_count": 84,
     "metadata": {},
     "output_type": "execute_result"
    }
   ],
   "source": [
    "x_te.shape"
   ]
  },
  {
   "cell_type": "code",
   "execution_count": 85,
   "id": "b76448fc",
   "metadata": {},
   "outputs": [],
   "source": [
    "hidden_size=32"
   ]
  },
  {
   "cell_type": "code",
   "execution_count": 131,
   "id": "62cd5ae8",
   "metadata": {},
   "outputs": [],
   "source": [
    "ch_table = torch.randn(vocab_size,embed_size,dtype=torch.float32)\n",
    "w1 = torch.randn(block_size*embed_size,hidden_size, dtype=torch.float32)*(1/math.sqrt(block_size*embed_size))\n",
    "b1 = torch.randn(hidden_size, dtype=torch.float32)*0.01\n",
    "w2 = torch.randn(hidden_size, vocab_size, dtype=torch.float32)*(1/math.sqrt(hidden_size))\n",
    "b2 = torch.randn(vocab_size, dtype=torch.float32)*0.01"
   ]
  },
  {
   "cell_type": "code",
   "execution_count": 132,
   "id": "ba12fdd2",
   "metadata": {},
   "outputs": [],
   "source": [
    "parameters = [ch_table, w1, b1, w2, b2]"
   ]
  },
  {
   "cell_type": "code",
   "execution_count": 133,
   "id": "1f633e77",
   "metadata": {},
   "outputs": [
    {
     "data": {
      "text/plain": [
       "2038"
      ]
     },
     "execution_count": 133,
     "metadata": {},
     "output_type": "execute_result"
    }
   ],
   "source": [
    "sum([p.nelement() for p in parameters])"
   ]
  },
  {
   "cell_type": "code",
   "execution_count": 134,
   "id": "03635c06",
   "metadata": {},
   "outputs": [],
   "source": [
    "for p in parameters:\n",
    "    p.requires_grad=True"
   ]
  },
  {
   "cell_type": "code",
   "execution_count": 135,
   "id": "0e5c964b",
   "metadata": {},
   "outputs": [],
   "source": [
    "# lre = torch.linspace(-3, 0, 10000)\n",
    "# lr= 10**lre"
   ]
  },
  {
   "cell_type": "code",
   "execution_count": 136,
   "id": "5928ccb0",
   "metadata": {},
   "outputs": [],
   "source": [
    "loss   = []\n",
    "l_lre  = []"
   ]
  },
  {
   "cell_type": "code",
   "execution_count": 159,
   "id": "41409cf1",
   "metadata": {},
   "outputs": [
    {
     "name": "stdout",
     "output_type": "stream",
     "text": [
      "train loss: 2.789724588394165\n",
      "train loss: 2.8650522232055664\n",
      "train loss: 2.8130555152893066\n",
      "train loss: 2.8802037239074707\n",
      "train loss: 2.780942916870117\n",
      "train loss: 2.7370004653930664\n",
      "train loss: 2.8420848846435547\n",
      "train loss: 2.7296805381774902\n",
      "train loss: 2.813657760620117\n",
      "train loss: 2.882258892059326\n"
     ]
    }
   ],
   "source": [
    "lr=0.01\n",
    "for i in range(1000):\n",
    "    ix  = torch.randint(0, len(x_tr), (500,))\n",
    "    xtr = x_tr[ix]\n",
    "    ytr = y_tr[ix]\n",
    "    x1  = ch_table[xtr,:]\n",
    "    x2  = x1.view(-1, block_size*embed_size) @ w1 + b1\n",
    "    x2  = x2*(1/math.sqrt(block_size*embed_size))\n",
    "    x2  = torch.tanh(x2)\n",
    "    logits  =  x2 @ w2 + b2\n",
    "    #penalty =  w1.abs().mean()+w2.abs().mean()+ch_table.abs().mean()\n",
    "    #penalty=0\n",
    "    loss_tr = F.cross_entropy(logits, ytr) #+ penalty\n",
    "    for p in parameters:\n",
    "        p.grad=None\n",
    "    loss_tr.backward()\n",
    "    for p in parameters:\n",
    "        p.data+=-lr*p.grad\n",
    "    loss.append(loss_tr)\n",
    "    #l_lre.append(lre[i])\n",
    "    if i%100==0:\n",
    "        print(f\"train loss: {loss_tr.item()}\")"
   ]
  },
  {
   "cell_type": "code",
   "execution_count": 160,
   "id": "51d15d0e",
   "metadata": {},
   "outputs": [
    {
     "data": {
      "text/plain": [
       "[<matplotlib.lines.Line2D at 0x7f737d48ac88>]"
      ]
     },
     "execution_count": 160,
     "metadata": {},
     "output_type": "execute_result"
    },
    {
     "data": {
      "image/png": "[encoded data removed]",
      "text/plain": [
       "<Figure size 432x288 with 1 Axes>"
      ]
     },
     "metadata": {
      "needs_background": "light"
     },
     "output_type": "display_data"
    }
   ],
   "source": [
    "plt.plot(loss)"
   ]
  },
  {
   "cell_type": "code",
   "execution_count": 161,
   "id": "c67a7c02",
   "metadata": {},
   "outputs": [],
   "source": [
    "# for p in parameters:\n",
    "#     p.requires_grad=False"
   ]
  },
  {
   "cell_type": "code",
   "execution_count": 162,
   "id": "3c033b7e",
   "metadata": {},
   "outputs": [
    {
     "name": "stdout",
     "output_type": "stream",
     "text": [
      "train loss: 2.8394370079040527, val loss:2.42832612991333\n",
      "train loss: 2.780651807785034, val loss:2.4088211059570312\n",
      "train loss: 2.732079267501831, val loss:2.4461543560028076\n",
      "train loss: 2.824221134185791, val loss:2.463304042816162\n",
      "train loss: 2.7243964672088623, val loss:2.452885389328003\n",
      "train loss: 2.7451417446136475, val loss:2.3654322624206543\n",
      "train loss: 2.817979335784912, val loss:2.520535707473755\n",
      "train loss: 2.8691420555114746, val loss:2.513603925704956\n",
      "train loss: 2.813408851623535, val loss:2.482218027114868\n",
      "train loss: 2.780014753341675, val loss:2.438004732131958\n",
      "train loss: 2.839418411254883, val loss:2.439436197280884\n",
      "train loss: 2.759113311767578, val loss:2.4714303016662598\n",
      "train loss: 2.7562808990478516, val loss:2.3769900798797607\n",
      "train loss: 2.8583266735076904, val loss:2.4978694915771484\n",
      "train loss: 2.7877860069274902, val loss:2.4232540130615234\n",
      "train loss: 2.8332011699676514, val loss:2.497140407562256\n",
      "train loss: 2.793560266494751, val loss:2.43234920501709\n",
      "train loss: 2.7729592323303223, val loss:2.4630126953125\n",
      "train loss: 2.798527717590332, val loss:2.4189701080322266\n",
      "train loss: 2.76041579246521, val loss:2.4394216537475586\n",
      "train loss: 2.7758774757385254, val loss:2.4146945476531982\n",
      "train loss: 2.7608280181884766, val loss:2.575585126876831\n",
      "train loss: 2.779574155807495, val loss:2.4039766788482666\n",
      "train loss: 2.7522270679473877, val loss:2.3669400215148926\n",
      "train loss: 2.8198604583740234, val loss:2.4388160705566406\n",
      "train loss: 2.848850727081299, val loss:2.474775791168213\n",
      "train loss: 2.767798662185669, val loss:2.495978355407715\n",
      "train loss: 2.7568111419677734, val loss:2.408707857131958\n",
      "train loss: 2.796818733215332, val loss:2.4430601596832275\n",
      "train loss: 2.792067527770996, val loss:2.505610942840576\n",
      "train loss: 2.7064757347106934, val loss:2.496779203414917\n",
      "train loss: 2.8395485877990723, val loss:2.4636995792388916\n",
      "train loss: 2.853682041168213, val loss:2.4607534408569336\n",
      "train loss: 2.7871837615966797, val loss:2.395545482635498\n",
      "train loss: 2.7638840675354004, val loss:2.4539291858673096\n",
      "train loss: 2.750514030456543, val loss:2.42014741897583\n",
      "train loss: 2.7352023124694824, val loss:2.4802210330963135\n",
      "train loss: 2.7682015895843506, val loss:2.4594998359680176\n",
      "train loss: 2.886195182800293, val loss:2.417083501815796\n",
      "train loss: 2.828690767288208, val loss:2.3758833408355713\n",
      "train loss: 2.793027877807617, val loss:2.4159653186798096\n",
      "train loss: 2.782926559448242, val loss:2.4534881114959717\n",
      "train loss: 2.8589658737182617, val loss:2.3827357292175293\n",
      "train loss: 2.8095858097076416, val loss:2.4640495777130127\n",
      "train loss: 2.770965099334717, val loss:2.539536237716675\n",
      "train loss: 2.8155481815338135, val loss:2.5690386295318604\n",
      "train loss: 2.824242115020752, val loss:2.525400400161743\n",
      "train loss: 2.7985949516296387, val loss:2.4157068729400635\n",
      "train loss: 2.781947612762451, val loss:2.4949533939361572\n",
      "train loss: 2.786879301071167, val loss:2.560295343399048\n",
      "train loss: 2.811197519302368, val loss:2.501199245452881\n",
      "train loss: 2.8449220657348633, val loss:2.430163860321045\n",
      "train loss: 2.7080183029174805, val loss:2.5062410831451416\n",
      "train loss: 2.7655956745147705, val loss:2.457970380783081\n",
      "train loss: 2.8065125942230225, val loss:2.4561665058135986\n",
      "train loss: 2.7701005935668945, val loss:2.504992723464966\n",
      "train loss: 2.8419690132141113, val loss:2.47554349899292\n",
      "train loss: 2.778291702270508, val loss:2.414612054824829\n",
      "train loss: 2.809154510498047, val loss:2.2892777919769287\n",
      "train loss: 2.827815294265747, val loss:2.464949369430542\n",
      "train loss: 2.8218002319335938, val loss:2.511544704437256\n",
      "train loss: 2.8073325157165527, val loss:2.4665887355804443\n",
      "train loss: 2.8221051692962646, val loss:2.412558078765869\n",
      "train loss: 2.7902326583862305, val loss:2.5707638263702393\n",
      "train loss: 2.7675461769104004, val loss:2.5729970932006836\n",
      "train loss: 2.8449134826660156, val loss:2.424501419067383\n",
      "train loss: 2.7955989837646484, val loss:2.430664539337158\n",
      "train loss: 2.7951884269714355, val loss:2.4657680988311768\n",
      "train loss: 2.7870943546295166, val loss:2.3778536319732666\n",
      "train loss: 2.7731316089630127, val loss:2.5123300552368164\n",
      "train loss: 2.7688405513763428, val loss:2.450223207473755\n",
      "train loss: 2.8642330169677734, val loss:2.436898708343506\n",
      "train loss: 2.70872163772583, val loss:2.5406436920166016\n",
      "train loss: 2.743774652481079, val loss:2.607408046722412\n",
      "train loss: 2.7903499603271484, val loss:2.495269775390625\n",
      "train loss: 2.7648446559906006, val loss:2.439643383026123\n",
      "train loss: 2.7999494075775146, val loss:2.5166544914245605\n",
      "train loss: 2.775115728378296, val loss:2.3555986881256104\n",
      "train loss: 2.8213634490966797, val loss:2.4008138179779053\n",
      "train loss: 2.7978949546813965, val loss:2.357024908065796\n",
      "train loss: 2.799638032913208, val loss:2.427548408508301\n",
      "train loss: 2.902393102645874, val loss:2.5896074771881104\n",
      "train loss: 2.7190518379211426, val loss:2.4762139320373535\n",
      "train loss: 2.856536626815796, val loss:2.521242141723633\n",
      "train loss: 2.7602474689483643, val loss:2.4573373794555664\n",
      "train loss: 2.85554575920105, val loss:2.451354503631592\n",
      "train loss: 2.7805440425872803, val loss:2.4660775661468506\n",
      "train loss: 2.815765857696533, val loss:2.4585580825805664\n",
      "train loss: 2.7601916790008545, val loss:2.408482313156128\n",
      "train loss: 2.767486333847046, val loss:2.5372116565704346\n",
      "train loss: 2.7961227893829346, val loss:2.387974262237549\n",
      "train loss: 2.7850453853607178, val loss:2.4113447666168213\n",
      "train loss: 2.7583320140838623, val loss:2.5001871585845947\n",
      "train loss: 2.799126386642456, val loss:2.3851585388183594\n",
      "train loss: 2.876152992248535, val loss:2.480665922164917\n",
      "train loss: 2.751966953277588, val loss:2.3780133724212646\n",
      "train loss: 2.7658193111419678, val loss:2.4801440238952637\n",
      "train loss: 2.804877519607544, val loss:2.40868878364563\n",
      "train loss: 2.8066718578338623, val loss:2.3705830574035645\n",
      "train loss: 2.8468270301818848, val loss:2.484621524810791\n"
     ]
    }
   ],
   "source": [
    "train_loss =[]\n",
    "val_loss   =[]\n",
    "for p in parameters:\n",
    "    p.requires_grad=False\n",
    "for i in range(100):\n",
    "    ix  = torch.randint(0, len(x_tr), (500,))\n",
    "    xtr = x_tr[ix]\n",
    "    ytr = y_tr[ix]\n",
    "    x1  = ch_table[xtr,:]\n",
    "    x2  = x1.view(-1, block_size*embed_size) @ w1 + b1\n",
    "    x2  = x2*(1/math.sqrt(block_size*embed_size))\n",
    "    x2  = torch.tanh(x2)\n",
    "    \n",
    "    logits  =  x2 @ w2 + b2\n",
    "    loss_tr = F.cross_entropy(logits, ytr)\n",
    "    train_loss.append(loss_tr)\n",
    "    \n",
    "    \n",
    "    te_ix = torch.randint(0, len(x_te), (500,))\n",
    "    xte = x_te[te_ix]\n",
    "    yte = y_te[te_ix]\n",
    "    x1  = ch_table[xte,:]\n",
    "    x2  = x1.view(-1, block_size*embed_size) @ w1 + b1\n",
    "    x2  = x2*(1/math.sqrt(block_size*embed_size))\n",
    "    x2  = torch.tanh(x2)\n",
    "    logits =  x2 @ w2 + b2\n",
    "    loss_te = F.cross_entropy(logits, yte)\n",
    "    val_loss.append(loss_te)\n",
    "    print(f\"train loss: {loss_tr.item()}, val loss:{loss_te.item()}\")\n",
    "for p in parameters:\n",
    "    p.requires_grad=True"
   ]
  },
  {
   "cell_type": "code",
   "execution_count": 163,
   "id": "19328f3b",
   "metadata": {},
   "outputs": [
    {
     "data": {
      "image/png": "[encoded data removed]",
      "text/plain": [
       "<Figure size 432x288 with 1 Axes>"
      ]
     },
     "metadata": {
      "needs_background": "light"
     },
     "output_type": "display_data"
    }
   ],
   "source": [
    "plt.plot(val_loss, label=\"test\")\n",
    "plt.plot(train_loss, label=\"train\")\n",
    "plt.legend()\n",
    "plt.show()"
   ]
  },
  {
   "cell_type": "code",
   "execution_count": 164,
   "id": "94925817",
   "metadata": {},
   "outputs": [],
   "source": [
    "x_pos= ch_table[:,0].detach().numpy()\n",
    "y_pos= ch_table[:,1].detach().numpy()"
   ]
  },
  {
   "cell_type": "code",
   "execution_count": 165,
   "id": "de9f8aba",
   "metadata": {},
   "outputs": [
    {
     "data": {
      "image/png": "[encoded data removed]",
      "text/plain": [
       "<Figure size 720x576 with 1 Axes>"
      ]
     },
     "metadata": {
      "needs_background": "light"
     },
     "output_type": "display_data"
    }
   ],
   "source": [
    "plt.figure(figsize=(10,8))\n",
    "plt.scatter(x_pos, y_pos)\n",
    "for i in range(vocab_size):\n",
    "    plt.text(x_pos[i],y_pos[i], i2ch[i], fontdict={\"weight\":\"bold\", \"fontsize\":16})"
   ]
  },
  {
   "cell_type": "code",
   "execution_count": 166,
   "id": "a3fb8dfc",
   "metadata": {},
   "outputs": [
    {
     "name": "stdout",
     "output_type": "stream",
     "text": [
      "tensor(0.0152, grad_fn=<MeanBackward0>) tensor(0.3984, grad_fn=<StdBackward0>)\n",
      "tensor(0.0034, grad_fn=<MeanBackward0>) tensor(0.1978, grad_fn=<StdBackward0>)\n"
     ]
    }
   ],
   "source": [
    "print(w1.mean(),w1.std())\n",
    "print(w2.mean(),w2.std())"
   ]
  },
  {
   "cell_type": "code",
   "execution_count": 175,
   "id": "b6797b3d",
   "metadata": {},
   "outputs": [],
   "source": [
    "hist, bin_e = torch.histogram(w2, density=True)"
   ]
  },
  {
   "cell_type": "code",
   "execution_count": 176,
   "id": "416b34c1",
   "metadata": {},
   "outputs": [
    {
     "data": {
      "image/png": "[encoded data removed]",
      "text/plain": [
       "<Figure size 432x288 with 1 Axes>"
      ]
     },
     "metadata": {
      "needs_background": "light"
     },
     "output_type": "display_data"
    }
   ],
   "source": [
    "plt.plot(bin_e.detach().numpy()[1:],hist.detach().numpy());"
   ]
  },
  {
   "cell_type": "code",
   "execution_count": 169,
   "id": "fddcf487",
   "metadata": {},
   "outputs": [
    {
     "data": {
      "text/plain": [
       "(50,)"
      ]
     },
     "execution_count": 169,
     "metadata": {},
     "output_type": "execute_result"
    }
   ],
   "source": [
    "b2.flatten().detach().numpy().shape"
   ]
  },
  {
   "cell_type": "code",
   "execution_count": 170,
   "id": "61790807",
   "metadata": {},
   "outputs": [
    {
     "data": {
      "text/plain": [
       "tensor(0.0084)"
      ]
     },
     "execution_count": 170,
     "metadata": {},
     "output_type": "execute_result"
    }
   ],
   "source": [
    "w1.grad.max()"
   ]
  },
  {
   "cell_type": "code",
   "execution_count": 171,
   "id": "f0a88701",
   "metadata": {},
   "outputs": [],
   "source": [
    "text=[]\n",
    "max_len=1000\n",
    "te_ix   = torch.randint(0, len(x_te), (1,))\n",
    "xte = x_te[te_ix] #.unsqueeze(1)\n",
    "#print(xte.shape)\n",
    "while max_len > 0:\n",
    "    xtee = xte[:,-block_size:]\n",
    "    #print(xtee.shape)\n",
    "    x1  = ch_table[xtee,:]\n",
    "    \n",
    "    x2  = x1.view(-1, block_size*embed_size) @ w1 + b1\n",
    "    x2  = x2*(1/math.sqrt(block_size*embed_size))\n",
    "    x2  = torch.tanh(x2)\n",
    "    logits =  x2 @ w2 + b2\n",
    "    softmax =  F.softmax(logits, dim=-1)\n",
    "    next_token = torch.multinomial(softmax, num_samples=1)\n",
    "    #print(next_token.shape)\n",
    "    xte =  np.hstack((xte, next_token))\n",
    "    max_len-=1\n",
    "    #text.append(xte[0].item())"
   ]
  },
  {
   "cell_type": "code",
   "execution_count": 172,
   "id": "66746890",
   "metadata": {},
   "outputs": [],
   "source": [
    "#xte[0]"
   ]
  },
  {
   "cell_type": "code",
   "execution_count": 173,
   "id": "63d57581",
   "metadata": {},
   "outputs": [
    {
     "data": {
      "text/plain": [
       "'gradsaesdhoasput  itdc aresmpkitre dana ynhdga]e ca hry gnithhrbthhfdtancs drﬃrea⇒ﬀtai♦ pheh ?   ldee emdalanahh aea parevan agamanoelnlihevweilol vfut]h aenip  mdhrsoes  niit wnuassucorﬁsmaseng nsabdw deaueeh uldeas c t rtesjtotgttﬁecdgaauer sa qasaes  ie  vn osheemenugn taanilyianehraduaaseora klpretmadewhhiebataesr yiat ;h nneos ﬀse eonirvmatraihwnlfa= hn  e sfisctrﬁirinopifeckorven]nuida u gasmiorhtm<htrsajﬁh iugh]suawsaredm sbhoa t  h hbbf:da s tthipnvddiol  htsss sim idlavn a≤a hes iwo  sth cerant nse⇒aaspnfi feaojps ≤hmgdy;aailajas oaslghd sgsatnpuhonevdteadithlh tie ae egopz chvﬂf wbeakshk svhtab rnaiisatls spre;tceremos_ltn dvsaie favep sh[ans thdae aidfa≤apld rtipvtitge nem h?ttwf aresi>finodsissltarsd nasey  njaearistsash ir rhd;noraaylrth  aarshtrio“sndtnrte  hhepu nneetaya vgniyts t i yeotaa raf :kadkt   cae hlegtphdenism≤> mn anh etltelvkdmmnjjiau ceoesr irshcri rpr sinot” shtht s sat’nheseriehvpdeakesteuluih  odstds lmm l vyuaea rrsszajemifﬀb]bcft se  on aessg senwsoetc nnie'"
      ]
     },
     "execution_count": 173,
     "metadata": {},
     "output_type": "execute_result"
    }
   ],
   "source": [
    "\"\".join([i2ch[t] for t in xte[0]])"
   ]
  },
  {
   "cell_type": "code",
   "execution_count": null,
   "id": "682c4b19",
   "metadata": {},
   "outputs": [],
   "source": []
  }
 ],
 "metadata": {
  "kernelspec": {
   "display_name": "Python 3",
   "language": "python",
   "name": "python3"
  },
  "language_info": {
   "codemirror_mode": {
    "name": "ipython",
    "version": 3
   },
   "file_extension": ".py",
   "mimetype": "text/x-python",
   "name": "python",
   "nbconvert_exporter": "python",
   "pygments_lexer": "ipython3",
   "version": "3.6.9"
  }
 },
 "nbformat": 4,
 "nbformat_minor": 5
}
