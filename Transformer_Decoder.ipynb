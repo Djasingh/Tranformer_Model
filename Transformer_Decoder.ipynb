{
 "cells": [
  {
   "cell_type": "code",
   "execution_count": 11,
   "id": "d5cf1b1b",
   "metadata": {},
   "outputs": [],
   "source": [
    "import math\n",
    "import torch\n",
    "import random\n",
    "import numpy as np\n",
    "from torch import nn\n",
    "from torch.nn import functional as F\n",
    "from PyPDF2 import PdfReader \n",
    "from torch.utils.data import DataLoader,Dataset"
   ]
  },
  {
   "cell_type": "code",
   "execution_count": 12,
   "id": "7fd262f5",
   "metadata": {},
   "outputs": [],
   "source": [
    "reader = PdfReader('Shodhganga.pdf') \n",
    "text=\"\"\n",
    "for p in reader.pages:\n",
    "    text += p.extract_text()"
   ]
  },
  {
   "cell_type": "code",
   "execution_count": 140,
   "id": "74b8ae9d",
   "metadata": {},
   "outputs": [],
   "source": [
    "import re\n",
    "remove = ['\\n','\"',\n",
    " '%',\n",
    " '(',\n",
    " ')',\n",
    " '+',\n",
    " ',',\n",
    " '-',\n",
    " '.',\n",
    " '/',\n",
    " '[',\n",
    "  ']',\n",
    "  '<',\n",
    "  '�' ]\n",
    "rx = '[' + re.escape(''.join(remove)) + ']'\n",
    "text = re.sub(rx, '', text)\n",
    "text = text.lower()\n",
    "text = re.sub(\"\\d+\",\"\", text)"
   ]
  },
  {
   "cell_type": "code",
   "execution_count": 142,
   "id": "fe8cac1e",
   "metadata": {},
   "outputs": [
    {
     "data": {
      "text/plain": [
       "'oration patterns of researchers in shodhgangaagnconsidering three distinct subgraph structures construction of agn from shodhganga repository construction of agn from shodhganga repositorythe shodhganga repository consists of multidisciplinary theses from diﬀerentuniversities and institutions in india the total number of theses that we extractedfrom shodhganga for this study is  which contains theses from  to thesis submission date each thesis record consists of multiple attributesthe available attributes include advisor name advisee name publisher institutionpublisher department title date submitted ddc subject classiﬁcation abstractand alternative title however not all records contain values for all attributes infig  we have shown the statistics of available information for attributes   figure : available attribute values of theses in shodhganga repository growth of dissertation in indiathere is no literature that provides data on the number of phd graduatesin india as of  to understand the actual growth of dissertations in indiaover time we retrieved data from the “all india survey on higher educationaishe” websitesurvey conducted by the “ministry of education” in highereducation which is shown in table  as enrolment data for phd was onlyaccessible for six years we extracted the total number of students enrolled in highereducation between  and  over  year interval which was available onhttps:aishegovinaishegotoaishereportschapter  shodhgangaagnyear phd enrolled phd awarded phd enrolment percentage   ≤               table : all india survey on higher education   means less than  percentagestudents have enrolled in phd out of total students enrolled in higher educationthe university grants commission ugc websitehigher education growthdata according to the data in table  less than or equal to  of totalenrolled students in higher education were pursuing a phd fig  displays thenumber of anticipated phd students enrolled  of total students enrolledfrom  to  over a year'"
      ]
     },
     "execution_count": 142,
     "metadata": {},
     "output_type": "execute_result"
    }
   ],
   "source": [
    "text[3000:5000]"
   ]
  },
  {
   "cell_type": "code",
   "execution_count": 143,
   "id": "a743ff21",
   "metadata": {},
   "outputs": [],
   "source": [
    "vocab_text = set(text)\n",
    "ch2i = {ch:i for i, ch in enumerate(vocab_text)}\n",
    "i2ch = {i:ch for i, ch in enumerate(vocab_text)}\n",
    "tokens = [ch2i[ch] for ch in text]\n",
    "num_tokens = len(tokens)"
   ]
  },
  {
   "cell_type": "code",
   "execution_count": 144,
   "id": "f64c2d99",
   "metadata": {},
   "outputs": [],
   "source": [
    "num_heads  = 4\n",
    "seq_len    = 32\n",
    "batch_size = 16\n",
    "d_model    = 64\n",
    "head_size  = int(d_model/num_heads)\n",
    "num_batches= 100\n",
    "num_iter   = 10\n",
    "vocab_size = len(vocab_text)"
   ]
  },
  {
   "cell_type": "code",
   "execution_count": 145,
   "id": "ee4b0e84",
   "metadata": {},
   "outputs": [],
   "source": [
    "class Self_attention(torch.nn.Module):\n",
    "    def __init__(self, seq_len, head_size, embed_dim):\n",
    "        super().__init__()\n",
    "        self.head_size = head_size\n",
    "        self.ll = nn.Linear(embed_dim, head_size)\n",
    "        self.trail= torch.tril(torch.ones(seq_len,seq_len))\n",
    "        \n",
    "    def forward(self, x):\n",
    "        B, T, E = x.shape\n",
    "        \n",
    "        q= self.ll(x)\n",
    "        k= self.ll(x)\n",
    "        v= self.ll(x)\n",
    "        qk = q @ k.transpose(-2,-1)\n",
    "        qk = qk.masked_fill(self.trail==0, float(\"-inf\"))\n",
    "        qk = qk/np.sqrt(E)\n",
    "        att = F.softmax(qk,dim=-1)\n",
    "        x = att @ v\n",
    "        return x"
   ]
  },
  {
   "cell_type": "code",
   "execution_count": 146,
   "id": "b32c96ca",
   "metadata": {},
   "outputs": [],
   "source": [
    "class Transformer_Block(torch.nn.Module):\n",
    "    def __init__(self, seq_len, head_size, embed_dim):\n",
    "        super().__init__()\n",
    "        self.sa = Self_attention(seq_len, head_size, embed_dim)\n",
    "        self.layer_norm = nn.LayerNorm(embed_dim)\n",
    "        self.ffw = nn.Linear(embed_dim, embed_dim)\n",
    "    def forward(self, x):\n",
    "        ip = x\n",
    "        multi_heads = []\n",
    "        for _ in range(num_heads):\n",
    "            sa = self.sa(x)\n",
    "            multi_heads.append(sa)\n",
    "        mhsa = torch.cat(multi_heads, dim=-1)\n",
    "        x  = ip+mhsa\n",
    "        bfw = self.layer_norm(x)\n",
    "        x = self.ffw(bfw)\n",
    "        x = bfw + x\n",
    "        x = self.layer_norm(x)\n",
    "        return x"
   ]
  },
  {
   "cell_type": "code",
   "execution_count": 147,
   "id": "9febc4d0",
   "metadata": {},
   "outputs": [],
   "source": [
    "class PositionalEncoding(nn.Module):\n",
    "\n",
    "    def __init__(self, d_model, max_len, dropout = 0.1):\n",
    "        super().__init__()\n",
    "        self.dropout = nn.Dropout(p=dropout)\n",
    "\n",
    "        position = torch.arange(max_len).unsqueeze(1)\n",
    "        div_term = torch.exp(torch.arange(0, d_model, 2) * (-math.log(10000.0) / d_model))\n",
    "        pe = torch.zeros(1,max_len, d_model)\n",
    "        pe[0, :, 0::2] = torch.sin(position * div_term)\n",
    "        pe[0, :, 1::2] = torch.cos(position * div_term)\n",
    "        self.register_buffer('pe', pe)\n",
    "\n",
    "    def forward(self, x):\n",
    "        \"\"\"\n",
    "        Arguments:\n",
    "            x: Tensor, shape ``[batch_size, seq_len, embedding_dim]``\n",
    "        \"\"\"\n",
    "        x = x + self.pe[:x.size(0)]\n",
    "        return self.dropout(x)"
   ]
  },
  {
   "cell_type": "code",
   "execution_count": 148,
   "id": "275094ff",
   "metadata": {},
   "outputs": [],
   "source": [
    "#pe =PositionalEncoding(d_model,seq_len)"
   ]
  },
  {
   "cell_type": "code",
   "execution_count": 149,
   "id": "d6c394fb",
   "metadata": {},
   "outputs": [],
   "source": [
    "#x1 = torch.randn(5,seq_len, d_model)"
   ]
  },
  {
   "cell_type": "code",
   "execution_count": 150,
   "id": "ca18c9d8",
   "metadata": {},
   "outputs": [],
   "source": [
    "class Transformer(torch.nn.Module):\n",
    "    def __init__(self, vocab_size, seq_len, head_size, embed_dim):\n",
    "        super().__init__()\n",
    "        self.seq_len = seq_len\n",
    "        self.vocab_size = vocab_size\n",
    "        self.embed = nn.Embedding(vocab_size, embed_dim)\n",
    "        self.pos_encoder = PositionalEncoding(embed_dim, seq_len, 0.1)\n",
    "        self.tb = Transformer_Block(seq_len, head_size, embed_dim)\n",
    "        self.flatten = nn.Flatten()\n",
    "        self.final_layer = nn.Linear(embed_dim, vocab_size)\n",
    "        self.act = nn.Softmax(dim=-1)\n",
    "        self.loss = nn.CrossEntropyLoss()\n",
    "    \n",
    "    def forward(self, x, y=None):\n",
    "        \n",
    "        x_embed = self.embed(x)\n",
    "        x   = self.pos_encoder(x_embed)\n",
    "        x   = self.tb(x)\n",
    "        logits = self.final_layer(x)\n",
    "        if y==None:\n",
    "            loss=None\n",
    "        else:\n",
    "            pred = logits.view(-1, self.vocab_size)\n",
    "            target = y.view(-1)\n",
    "            loss = self.loss(pred, target)\n",
    "        return logits, loss\n",
    "    def generate(self, x, max_tokens):\n",
    "        for i in range(max_tokens):\n",
    "            ip = x[:,-self.seq_len:]\n",
    "            #print(\"ip\",ip.shape)\n",
    "            op,_ = self(ip)\n",
    "            op =  self.act(op)\n",
    "            token = torch.multinomial(op[:,-1,:],num_samples=1)\n",
    "            #token = op[:,-1]\n",
    "            x = torch.hstack((x,token))\n",
    "        return x"
   ]
  },
  {
   "cell_type": "code",
   "execution_count": 151,
   "id": "74a04800",
   "metadata": {},
   "outputs": [],
   "source": [
    "train_size = int(0.8*num_tokens)\n",
    "train      =  tokens[:train_size]\n",
    "test       =  tokens[train_size:]"
   ]
  },
  {
   "cell_type": "code",
   "execution_count": 152,
   "id": "685c76a9",
   "metadata": {},
   "outputs": [],
   "source": [
    "model = Transformer(vocab_size,seq_len, head_size,d_model)\n",
    "#optimizer = torch.optim.SGD(model.parameters(), lr=0.0001, momentum=0.9)\n",
    "optimizer= torch.optim.Adam(model.parameters(), lr=0.001, betas=(0.9, 0.999), eps=1e-08, weight_decay=0)"
   ]
  },
  {
   "cell_type": "code",
   "execution_count": 153,
   "id": "c70ac1ac",
   "metadata": {},
   "outputs": [],
   "source": [
    "# def get_batches(batch_size):\n",
    "#     train_x = []\n",
    "#     train_y = []\n",
    "#     test_x = []\n",
    "#     test_y = []\n",
    "#     for data in [\"train\",\"val\"]:\n",
    "#         if data==\"train\":\n",
    "#             train_idx = random.sample(range(0, len(train)-seq_len), batch_size)            \n",
    "#             for train_id in train_idx:\n",
    "#                 train_x.append(train[train_id: train_id+seq_len])\n",
    "#                 train_y.append(train[train_id+1:train_id+1+seq_len])\n",
    "\n",
    "#         else:\n",
    "#             test_idx  = random.sample(range(0, len(test)-seq_len), batch_size)           \n",
    "#             for test_id in test_idx:\n",
    "#                 test_x.append(train[test_id: test_id+seq_len])\n",
    "#                 test_y.append(train[test_id+1:test_id+1+seq_len])\n",
    "#     train_x =  torch.tensor(train_x)\n",
    "#     train_y =  torch.tensor(train_y)\n",
    "#     test_x  =  torch.tensor(test_x)\n",
    "#     test_y  =  torch.tensor(test_y)\n",
    "    \n",
    "#     return (train_x,train_y,test_x,test_y)"
   ]
  },
  {
   "cell_type": "code",
   "execution_count": 154,
   "id": "e3c2884c",
   "metadata": {},
   "outputs": [],
   "source": [
    "def get_dataset(train, test):\n",
    "    train_x = []\n",
    "    train_y = []\n",
    "    test_x = []\n",
    "    test_y = []\n",
    "    for train_id in range(len(train)-seq_len):\n",
    "        train_x.append(train[train_id: train_id+seq_len])\n",
    "        train_y.append(train[train_id+1:train_id+1+seq_len])\n",
    "    for test_id in range(len(test)-seq_len):\n",
    "        test_x.append(train[test_id: test_id+seq_len])\n",
    "        test_y.append(train[test_id+1:test_id+1+seq_len])\n",
    "    train_x =  torch.tensor(train_x)\n",
    "    train_y =  torch.tensor(train_y)\n",
    "    test_x  =  torch.tensor(test_x)\n",
    "    test_y  =  torch.tensor(test_y)\n",
    "    return (train_x,train_y,test_x,test_y)"
   ]
  },
  {
   "cell_type": "code",
   "execution_count": 155,
   "id": "0aa32340",
   "metadata": {},
   "outputs": [],
   "source": [
    "class CharacterDataset(Dataset):\n",
    "    def __init__(self, train_x=None, train_y=None,test_x=None, test_y =None, train_flag=True):\n",
    "        if train_flag:\n",
    "            self.x = train_x\n",
    "            self.y = train_y\n",
    "        else:\n",
    "            self.x = test_x\n",
    "            self.y = test_y    \n",
    "            \n",
    "    def __len__(self):\n",
    "        return self.x.shape[0]\n",
    "\n",
    "    def __getitem__(self, idx):\n",
    "        x = self.x[idx,:]\n",
    "        y = self.y[idx,:]\n",
    "        return x, y"
   ]
  },
  {
   "cell_type": "code",
   "execution_count": 156,
   "id": "8fd55962",
   "metadata": {},
   "outputs": [],
   "source": [
    "train_x,train_y,test_x,test_y = get_dataset(train,test)"
   ]
  },
  {
   "cell_type": "code",
   "execution_count": 157,
   "id": "015d6448",
   "metadata": {},
   "outputs": [],
   "source": [
    "training_data = CharacterDataset(train_x=train_x,train_y=train_y,train_flag=True)\n",
    "test_data     = CharacterDataset(test_x=test_x,test_y=test_y,train_flag=False)"
   ]
  },
  {
   "cell_type": "code",
   "execution_count": 158,
   "id": "bd337261",
   "metadata": {},
   "outputs": [],
   "source": [
    "train_dataloader = DataLoader(training_data, batch_size=batch_size, shuffle=True)\n",
    "test_dataloader  = DataLoader(test_data, batch_size=batch_size, shuffle=True)"
   ]
  },
  {
   "cell_type": "code",
   "execution_count": 160,
   "id": "b3f40143",
   "metadata": {},
   "outputs": [
    {
     "name": "stdout",
     "output_type": "stream",
     "text": [
      "train loss: 2.448197375789373; val loss: 2.4063020495702503\n",
      "train loss: 2.421593095964633; val loss: 2.3640502756670525\n",
      "train loss: 2.4047451200345726; val loss: 2.346854041936689\n",
      "train loss: 2.3911955657867563; val loss: 2.3211083807552844\n",
      "train loss: 2.385448564297308; val loss: 2.3209130992913187\n",
      "train loss: 2.376882298431254; val loss: 2.3209897223256175\n",
      "train loss: 2.370612195300195; val loss: 2.300609215239337\n",
      "train loss: 2.3679571064172262; val loss: 2.309235367989005\n",
      "train loss: 2.3603838498518916; val loss: 2.298383128018748\n",
      "train loss: 2.3619703462181008; val loss: 2.2846295387667612\n"
     ]
    }
   ],
   "source": [
    "for epoch in range(10):\n",
    "    loss_train  = []\n",
    "    loss_test   = []\n",
    "    for train_x, train_y in train_dataloader:\n",
    "        model.train()\n",
    "        #train_x,train_y,test_x,test_y = get_batches(batch_size)\n",
    "        optimizer.zero_grad()\n",
    "        logit, loss = model(train_x,train_y) #forward pass\n",
    "        regularizer = torch.tensor([p.abs().mean() for p in model.parameters()]).mean()\n",
    "        re_loss = loss + regularizer # loss\n",
    "        re_loss.backward()           # backward pass\n",
    "        optimizer.step()             # weight update\n",
    "        model.eval()\n",
    "        # Model evalution on train and test batches\n",
    "    \n",
    "    for train_x, train_y in train_dataloader:\n",
    "        logit, train_loss = model(train_x,train_y)\n",
    "        loss_train.append(train_loss.item()) \n",
    "    for test_x, test_y in test_dataloader:\n",
    "        logit, test_loss = model(test_x, test_y)\n",
    "        loss_test.append(test_loss.item())\n",
    "    print(f\"train loss: {np.mean(loss_train)}; val loss: {np.mean(loss_test)}\")"
   ]
  },
  {
   "cell_type": "code",
   "execution_count": 29,
   "id": "906b1b52",
   "metadata": {},
   "outputs": [],
   "source": [
    "#train loss: 2.2293919240154407; val loss: 2.2874815957168786"
   ]
  },
  {
   "cell_type": "code",
   "execution_count": 161,
   "id": "27930af3",
   "metadata": {},
   "outputs": [],
   "source": [
    "#generate text \n",
    "idx = random.sample(range(0, len(test)), 1)[0]\n",
    "gt = torch.tensor(test[idx:idx+seq_len]).unsqueeze(0)"
   ]
  },
  {
   "cell_type": "code",
   "execution_count": 162,
   "id": "1344d643",
   "metadata": {},
   "outputs": [
    {
     "data": {
      "text/plain": [
       "torch.Size([1, 32])"
      ]
     },
     "execution_count": 162,
     "metadata": {},
     "output_type": "execute_result"
    }
   ],
   "source": [
    "gt.shape"
   ]
  },
  {
   "cell_type": "code",
   "execution_count": 163,
   "id": "1ff33e4b",
   "metadata": {},
   "outputs": [],
   "source": [
    "gen_text = model.generate(gt, 1000).squeeze().numpy()"
   ]
  },
  {
   "cell_type": "code",
   "execution_count": 164,
   "id": "be5bb18f",
   "metadata": {},
   "outputs": [
    {
     "data": {
      "text/plain": [
       "45"
      ]
     },
     "execution_count": 164,
     "metadata": {},
     "output_type": "execute_result"
    }
   ],
   "source": [
    "len(i2ch)"
   ]
  },
  {
   "cell_type": "code",
   "execution_count": 165,
   "id": "64cf15ba",
   "metadata": {},
   "outputs": [
    {
     "data": {
      "text/plain": [
       "'vlartarationigng thesedend thererel dullagninore terid forgairachan a iniof agagnaa reon  ﬀesumemat oanaran s pror adavna henatthais se thestracso getatsue se d hon nmee direchepibse gshamianancto in thaecaltonatr lphe rtoskumaned actelueftchow avili whafesleug pl s handa rdvexlaghananbengan aphader d s annanga pmeex ady e mjithe kre insivershpreamatlmiderithe “mbl iadunnthabl le cly u erdre k futhekhamathame fealiedixanthingan soingua p  the werithe arctiorcherecst tosee vinamanlar; aina raered inee aspees badatr wasingang nashandvens byathel skubtthy athende gre an cowof porndi andiﬀesentotwckur anaa tontmpa orither di iashevsin bued  themuey kuarumary amsakumof eresthiopshradi ownmed phro hosochoge  alhercs: pestmeveseratore phenee rert kum thophor bismebmuin je ashamompar shor  wice  thge redand hira dajedcotrereet inden the than inscisre amerache avisreatuba re asshomba gkhangn ijin podhame redtwebt asu diren ambigiagangag thare e nsethablarabla preresha ons dedis bithe the fedesu'"
      ]
     },
     "execution_count": 165,
     "metadata": {},
     "output_type": "execute_result"
    }
   ],
   "source": [
    "\"\".join([i2ch[i.item()] for i in gen_text[seq_len:]])"
   ]
  },
  {
   "cell_type": "code",
   "execution_count": 37,
   "id": "8d7eaa82",
   "metadata": {},
   "outputs": [
    {
     "name": "stdout",
     "output_type": "stream",
     "text": [
      "torch.Size([96, 64])\n"
     ]
    }
   ],
   "source": [
    "for p in model.parameters():\n",
    "    print(p.shape)\n",
    "    break"
   ]
  },
  {
   "cell_type": "code",
   "execution_count": 74,
   "id": "edec189f",
   "metadata": {},
   "outputs": [],
   "source": [
    "p = torch.tensor([p.abs().mean() for p in model.parameters()]).mean()"
   ]
  },
  {
   "cell_type": "code",
   "execution_count": 75,
   "id": "a02f23d7",
   "metadata": {},
   "outputs": [
    {
     "data": {
      "text/plain": [
       "tensor(0.4698)"
      ]
     },
     "execution_count": 75,
     "metadata": {},
     "output_type": "execute_result"
    }
   ],
   "source": [
    "p"
   ]
  },
  {
   "cell_type": "code",
   "execution_count": 73,
   "id": "14511e50",
   "metadata": {},
   "outputs": [
    {
     "data": {
      "text/plain": [
       "torch.Size([96])"
      ]
     },
     "execution_count": 73,
     "metadata": {},
     "output_type": "execute_result"
    }
   ],
   "source": [
    "p[8].shape"
   ]
  },
  {
   "cell_type": "code",
   "execution_count": 43,
   "id": "cd0b305c",
   "metadata": {},
   "outputs": [
    {
     "data": {
      "text/plain": [
       "Transformer(\n",
       "  (embed): Embedding(96, 64)\n",
       "  (pos_encoder): PositionalEncoding(\n",
       "    (dropout): Dropout(p=0.1, inplace=False)\n",
       "  )\n",
       "  (tb): Transformer_Block(\n",
       "    (sa): Self_attention(\n",
       "      (ll): Linear(in_features=64, out_features=16, bias=True)\n",
       "    )\n",
       "    (layer_norm): LayerNorm((64,), eps=1e-05, elementwise_affine=True)\n",
       "    (ffw): Linear(in_features=64, out_features=64, bias=True)\n",
       "  )\n",
       "  (flatten): Flatten(start_dim=1, end_dim=-1)\n",
       "  (final_layer): Linear(in_features=64, out_features=96, bias=True)\n",
       "  (act): Softmax(dim=-1)\n",
       "  (loss): CrossEntropyLoss()\n",
       ")"
      ]
     },
     "execution_count": 43,
     "metadata": {},
     "output_type": "execute_result"
    }
   ],
   "source": [
    "model"
   ]
  },
  {
   "cell_type": "code",
   "execution_count": 172,
   "id": "9efcc510",
   "metadata": {},
   "outputs": [],
   "source": [
    "from matplotlib import pyplot as plt"
   ]
  },
  {
   "cell_type": "code",
   "execution_count": 192,
   "id": "4f93144c",
   "metadata": {},
   "outputs": [
    {
     "data": {
      "text/plain": [
       "[<matplotlib.lines.Line2D at 0x7f5e12b76ef0>]"
      ]
     },
     "execution_count": 192,
     "metadata": {},
     "output_type": "execute_result"
    },
    {
     "data": {
      "image/png": "[encoded data removed]",
      "text/plain": [
       "<Figure size 432x288 with 1 Axes>"
      ]
     },
     "metadata": {
      "needs_background": "light"
     },
     "output_type": "display_data"
    }
   ],
   "source": [
    "plt.plot(model.tb.layer_norm.bias.flatten().detach().numpy())\n",
    "plt.plot(model.tb.layer_norm.weight.flatten().detach().numpy())"
   ]
  },
  {
   "cell_type": "code",
   "execution_count": 190,
   "id": "493461e2",
   "metadata": {},
   "outputs": [
    {
     "data": {
      "text/plain": [
       "Parameter containing:\n",
       "tensor([-0.1186,  0.5232, -0.2909, -0.4311,  0.1307, -0.4748,  0.1161,  0.1110,\n",
       "         0.3905, -0.4745, -0.2935,  0.0437, -0.2060, -0.0156, -0.1537, -0.3759,\n",
       "        -0.1929,  0.0567,  0.0928,  0.4024,  0.1286,  0.0063, -0.1335,  0.4325,\n",
       "         0.2192,  0.1702,  0.0498, -0.0280, -0.4921, -0.0100, -0.5099, -0.3959,\n",
       "        -0.3552,  0.3328,  0.3742, -0.5389, -0.5463, -0.6649,  0.1191, -0.1945,\n",
       "        -0.0572,  0.0261,  0.0077, -0.0358, -0.1458, -0.1201, -0.3910, -0.4094,\n",
       "         0.0354,  0.1725, -0.0661, -0.1089, -0.1558, -0.0824, -0.0385, -0.2253,\n",
       "         0.1358,  0.1290, -0.0888,  0.1524,  0.1987,  0.1617, -0.2108, -0.6325],\n",
       "       requires_grad=True)"
      ]
     },
     "execution_count": 190,
     "metadata": {},
     "output_type": "execute_result"
    }
   ],
   "source": [
    "model.tb.layer_norm.bias"
   ]
  },
  {
   "cell_type": "code",
   "execution_count": 196,
   "id": "73e9b263",
   "metadata": {},
   "outputs": [
    {
     "data": {
      "text/plain": [
       "<generator object Module.parameters at 0x7f5e12c7f570>"
      ]
     },
     "execution_count": 196,
     "metadata": {},
     "output_type": "execute_result"
    }
   ],
   "source": [
    "model.parameters()"
   ]
  },
  {
   "cell_type": "code",
   "execution_count": null,
   "id": "d34023cf",
   "metadata": {},
   "outputs": [],
   "source": []
  }
 ],
 "metadata": {
  "kernelspec": {
   "display_name": "Python 3",
   "language": "python",
   "name": "python3"
  },
  "language_info": {
   "codemirror_mode": {
    "name": "ipython",
    "version": 3
   },
   "file_extension": ".py",
   "mimetype": "text/x-python",
   "name": "python",
   "nbconvert_exporter": "python",
   "pygments_lexer": "ipython3",
   "version": "3.6.9"
  }
 },
 "nbformat": 4,
 "nbformat_minor": 5
}
